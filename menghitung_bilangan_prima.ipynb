{
  "nbformat": 4,
  "nbformat_minor": 0,
  "metadata": {
    "colab": {
      "name": "menghitung bilangan prima.ipynb",
      "provenance": [],
      "authorship_tag": "ABX9TyNuEsikJ3ZpBRmWtIPheg1D",
      "include_colab_link": true
    },
    "kernelspec": {
      "name": "python3",
      "display_name": "Python 3"
    },
    "language_info": {
      "name": "python"
    }
  },
  "cells": [
    {
      "cell_type": "markdown",
      "metadata": {
        "id": "view-in-github",
        "colab_type": "text"
      },
      "source": [
        "<a href=\"https://colab.research.google.com/github/arfanrifqi/latihan-python/blob/main/menghitung_bilangan_prima.ipynb\" target=\"_parent\"><img src=\"https://colab.research.google.com/assets/colab-badge.svg\" alt=\"Open In Colab\"/></a>"
      ]
    },
    {
      "cell_type": "markdown",
      "source": [
        "Buat program yang menghitung hasil penjumlahan seluruh bilangan prima yang lebih kecil dari 10.000"
      ],
      "metadata": {
        "id": "ZX53k3JgXDyA"
      }
    },
    {
      "cell_type": "code",
      "source": [
        "def jumlah_prima(batas):\n",
        "\n",
        "    daftar_prima = [] # tipe data yang muncul berupa list\n",
        "    jumlah_prima = 0 # dimulai dengan bilangan nol\n",
        "    \n",
        "    for angka in range(0, batas + 1):\n",
        "     \n",
        "        if angka > 1: # jika angka lebih dari satu yang merupakan penjumlahan dari paramerter batas + 1\n",
        "            \n",
        "            for i in range(2, angka): # untuk fungsi i di parameter yang berisi 2 dan angka(lebih dari satu)\n",
        "                \n",
        "                if (angka % i) == 0: #jika angka modulus dengan i maka hasilnya adalah nol dan nilai sama dengan nol\n",
        "                    break # maka perulangan akan berhenti\n",
        "            else:\n",
        "                daftar_prima.append(angka) # jika tipe list ditambah nilai berupa angka yang tidak sama dengan nol \n",
        "                jumlah_prima += angka # mejumlahkan bilangan integer(jumlah_prima) berupa nol dengan angka(tidak sama dengan nol),\n",
        "                                      # dengan menggunakan assigment/penugasan\n",
        "\n",
        "        else:\n",
        "            pass\n",
        "    print('daftar bilangan prima')   \n",
        "    print(daftar_prima) # hasil dari penambahan nilai angka\n",
        "\n",
        "    print('\\npemjumlahan seluruh bilangan prima')\n",
        "    print(jumlah_prima) # hasil penjumlahan dengan angka"
      ],
      "metadata": {
        "id": "GJkEjBSqXDgg"
      },
      "execution_count": 10,
      "outputs": []
    },
    {
      "cell_type": "code",
      "source": [
        "jumlah_prima(100)"
      ],
      "metadata": {
        "colab": {
          "base_uri": "https://localhost:8080/"
        },
        "id": "i2S77owGXlf4",
        "outputId": "0b4ab27e-fdbd-4f7a-b1a6-2fb91cb6e9c1"
      },
      "execution_count": 11,
      "outputs": [
        {
          "output_type": "stream",
          "name": "stdout",
          "text": [
            "daftar bilangan prima\n",
            "[2, 3, 5, 7, 11, 13, 17, 19, 23, 29, 31, 37, 41, 43, 47, 53, 59, 61, 67, 71, 73, 79, 83, 89, 97]\n",
            "\n",
            "pemjumlahan seluruh bilangan prima\n",
            "1060\n"
          ]
        }
      ]
    }
  ]
}
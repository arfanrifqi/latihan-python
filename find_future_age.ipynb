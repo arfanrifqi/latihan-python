{
  "nbformat": 4,
  "nbformat_minor": 0,
  "metadata": {
    "colab": {
      "name": "find future age.ipynb",
      "provenance": [],
      "authorship_tag": "ABX9TyMRm7Ecx+GalrLTH2zKecGB",
      "include_colab_link": true
    },
    "kernelspec": {
      "name": "python3",
      "display_name": "Python 3"
    },
    "language_info": {
      "name": "python"
    }
  },
  "cells": [
    {
      "cell_type": "markdown",
      "metadata": {
        "id": "view-in-github",
        "colab_type": "text"
      },
      "source": [
        "<a href=\"https://colab.research.google.com/github/arfanrifqi/latihan-soal-python-aritmatika/blob/main/find_future_age.ipynb\" target=\"_parent\"><img src=\"https://colab.research.google.com/assets/colab-badge.svg\" alt=\"Open In Colab\"/></a>"
      ]
    },
    {
      "cell_type": "markdown",
      "source": [
        "Buatlah sebuah program yang menanyakan nama dan usia kepada user. Program kemudian memunculkan kapan user bersangkutan berusia 50 tahun.\n",
        "\n",
        "contoh :\n",
        "\n",
        "Nama anda Soleh, anda berusia 15 tahun. Pada tahun 2054 anda akan berusia 48 tahun."
      ],
      "metadata": {
        "id": "41iJ4m-cTqSo"
      }
    },
    {
      "cell_type": "code",
      "execution_count": 2,
      "metadata": {
        "id": "FJke1p1oTC5Q"
      },
      "outputs": [],
      "source": [
        "import datetime as dt"
      ]
    },
    {
      "cell_type": "code",
      "source": [
        "today = dt.date.today()\n",
        "\n",
        "name = input(\"masukan nama anda : \" )\n",
        "date = int(input(\"tanggal \\t:\"))\n",
        "month = int(input(\"bulan \\t\\t:\"))\n",
        "year = int(input(\"tahun lahir \\t\\t:\"))\n",
        "future = int(input(\"tahun masa depan \\t:\"))\n",
        "\n",
        "birthday = dt.date(year, month, date)\n",
        "\n",
        "datenow = today - birthday\n",
        "age = datenow.days // 365\n",
        "nextyear = future - year\n",
        "\n",
        "print(f\"nama anda {name}, anda berusia {age} tahun. pada tahun {future} usia anda {nextyear}\")"
      ],
      "metadata": {
        "colab": {
          "base_uri": "https://localhost:8080/"
        },
        "id": "7uQW3UwdTj29",
        "outputId": "51b2cf93-3c84-4204-8e51-0c5ec0e42d2f"
      },
      "execution_count": 4,
      "outputs": [
        {
          "output_type": "stream",
          "name": "stdout",
          "text": [
            "masukan nama anda : arfan\n",
            "tanggal \t:17\n",
            "bulan \t\t:2\n",
            "tahun lahir \t\t:1992\n",
            "tahun masa depan \t:2022\n",
            "nama anda arfan, anda berusia 30 tahun. pada tahun 2022 usia anda 30\n"
          ]
        }
      ]
    }
  ]
}
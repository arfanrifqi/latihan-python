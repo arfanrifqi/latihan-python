{
  "nbformat": 4,
  "nbformat_minor": 0,
  "metadata": {
    "colab": {
      "name": "pembagi bilangan.ipynb",
      "provenance": [],
      "authorship_tag": "ABX9TyO7UNTO9ks8TFM21BLSerHF",
      "include_colab_link": true
    },
    "kernelspec": {
      "name": "python3",
      "display_name": "Python 3"
    },
    "language_info": {
      "name": "python"
    }
  },
  "cells": [
    {
      "cell_type": "markdown",
      "metadata": {
        "id": "view-in-github",
        "colab_type": "text"
      },
      "source": [
        "<a href=\"https://colab.research.google.com/github/arfanrifqi/latihan-python/blob/main/pembagi_bilangan.ipynb\" target=\"_parent\"><img src=\"https://colab.research.google.com/assets/colab-badge.svg\" alt=\"Open In Colab\"/></a>"
      ]
    },
    {
      "cell_type": "markdown",
      "source": [
        "Buatlah sebuah program yang menyakan sebuah bilangan kepada user, kemudian mencetak seluruh bilangan yang dapat membagi habis bilangan tersebut\n",
        "\n",
        "contoh output:\n",
        "\n",
        "Bilangan 10 dapat dibagi habis oleh bilangan: 2,5"
      ],
      "metadata": {
        "id": "YMxppmSLrnIm"
      }
    },
    {
      "cell_type": "code",
      "execution_count": 1,
      "metadata": {
        "id": "tg-iyT3grflg"
      },
      "outputs": [],
      "source": [
        "def cari_pembagi(bil):\n",
        "    pembagi = []\n",
        "    for i in range(2,bil+0):\n",
        "        if bil % i == 0:\n",
        "            pembagi.append(i)\n",
        "    return pembagi"
      ]
    },
    {
      "cell_type": "code",
      "source": [
        "bil = int(input(\"masukan bilangan : \"))\n",
        "pembagi = cari_pembagi(bil)\n",
        "print(f\"bilangan {bil} dapat dibagi habis oleh bilangan: {pembagi}\")"
      ],
      "metadata": {
        "colab": {
          "base_uri": "https://localhost:8080/"
        },
        "id": "nn2W8RS6r6Di",
        "outputId": "7ae8a3a2-d5f4-464b-8f13-b658d32a9c35"
      },
      "execution_count": 2,
      "outputs": [
        {
          "output_type": "stream",
          "name": "stdout",
          "text": [
            "masukan bilangan : 10\n",
            "bilangan 10 dapat dibagi habis oleh bilangan: [2, 5]\n"
          ]
        }
      ]
    },
    {
      "cell_type": "code",
      "source": [
        ""
      ],
      "metadata": {
        "id": "zqc_fu2Cr8xx"
      },
      "execution_count": null,
      "outputs": []
    }
  ]
}
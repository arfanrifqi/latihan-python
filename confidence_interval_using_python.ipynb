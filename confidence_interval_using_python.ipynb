{
  "nbformat": 4,
  "nbformat_minor": 0,
  "metadata": {
    "colab": {
      "name": "confidence interval using python.ipynb",
      "provenance": [],
      "authorship_tag": "ABX9TyPCKj+UzgxhBhyez3Uopg4m",
      "include_colab_link": true
    },
    "kernelspec": {
      "name": "python3",
      "display_name": "Python 3"
    },
    "language_info": {
      "name": "python"
    }
  },
  "cells": [
    {
      "cell_type": "markdown",
      "metadata": {
        "id": "view-in-github",
        "colab_type": "text"
      },
      "source": [
        "<a href=\"https://colab.research.google.com/github/arfanrifqi/latihan-soal-python/blob/main/confidence_interval_using_python.ipynb\" target=\"_parent\"><img src=\"https://colab.research.google.com/assets/colab-badge.svg\" alt=\"Open In Colab\"/></a>"
      ]
    },
    {
      "cell_type": "code",
      "execution_count": 1,
      "metadata": {
        "id": "VNLmiJvhTHxn"
      },
      "outputs": [],
      "source": [
        "import numpy as np\n",
        "import statistics\n",
        "import math "
      ]
    },
    {
      "cell_type": "markdown",
      "source": [
        "##**Deskripsi Soal Homework**\n",
        "\n",
        "Bayangkan kalian memiliki bisnis dalam bidang pendidikan, sebutlah ABC Academy. Kemudian saat evaluasi tahunan, para investor ingin mengetahui secara akurat bagaimana performance para pengajar, dengan mengetahui berapa kisaran nilai dari seluruh siswa ABC Academy. Tetapi, akan membutuhkan waktu lama jika menunggu seluruh siswa menyelesaikan tugas akhir. Untuk menjawab pertanyaan para investor dengan lebih cepat tapi tetap akurat, maka, diambil random sampling 10 siswa dengan nilai sebagai berikut :\n",
        "\n",
        "45, 55, 67, 45, 68, 79, 98, 87, 84, 82.\n",
        "\n",
        "Hitunglah confidence interval dari nilai-nilai siswa di ABC Academy, jika confidence level yang diharapkan adalah 98%? "
      ],
      "metadata": {
        "id": "6E7_SiEGThgG"
      }
    },
    {
      "cell_type": "markdown",
      "source": [
        "###**menghitung secara manual**"
      ],
      "metadata": {
        "id": "CZ-qWP-IXuuJ"
      }
    },
    {
      "cell_type": "code",
      "source": [
        "nilai = [45, 55, 67, 45, 68, 79, 98, 87, 84, 82]\n",
        "conv = 0.98"
      ],
      "metadata": {
        "id": "q5QAayfRTchO"
      },
      "execution_count": 11,
      "outputs": []
    },
    {
      "cell_type": "code",
      "source": [
        "# melakukan pengurangan untuk menentukan T-Distribution Table\n",
        "sample = 10\n",
        "print('hasil:',sample - 1)"
      ],
      "metadata": {
        "colab": {
          "base_uri": "https://localhost:8080/"
        },
        "id": "uvNlgTE_VAuH",
        "outputId": "4e97a171-624b-4cf2-8bbc-664c7a1c3668"
      },
      "execution_count": 12,
      "outputs": [
        {
          "output_type": "stream",
          "name": "stdout",
          "text": [
            "hasil: 9\n"
          ]
        }
      ]
    },
    {
      "cell_type": "code",
      "source": [
        "# mencari stanadar deviasi\n",
        "std = statistics.stdev(nilai)\n",
        "print('standar deviasi:',std)"
      ],
      "metadata": {
        "colab": {
          "base_uri": "https://localhost:8080/"
        },
        "id": "etxcWpEFVXd-",
        "outputId": "15d92219-a45e-4217-91c7-e58505465dc8"
      },
      "execution_count": 13,
      "outputs": [
        {
          "output_type": "stream",
          "name": "stdout",
          "text": [
            "standar deviasi: 18.172017560585346\n"
          ]
        }
      ]
    },
    {
      "cell_type": "code",
      "source": [
        "# mencari nilai rata-rata siswa\n",
        "rerata = statistics.mean(nilai)\n",
        "print('retata:',rerata)"
      ],
      "metadata": {
        "colab": {
          "base_uri": "https://localhost:8080/"
        },
        "id": "Vum18wHoVlmc",
        "outputId": "484dc6a5-90ac-46e6-e2fa-7193ed2e0d75"
      },
      "execution_count": 14,
      "outputs": [
        {
          "output_type": "stream",
          "name": "stdout",
          "text": [
            "retata: 71\n"
          ]
        }
      ]
    },
    {
      "cell_type": "code",
      "source": [
        "# mencari nilai tabel T-Distribution Table\n",
        "tabel = (1-conv)/2\n",
        "print(tabel)"
      ],
      "metadata": {
        "colab": {
          "base_uri": "https://localhost:8080/"
        },
        "id": "6x0-4CrZVvSk",
        "outputId": "6318ac91-87f9-4a85-aea9-84cd8a65f1d3"
      },
      "execution_count": 15,
      "outputs": [
        {
          "output_type": "stream",
          "name": "stdout",
          "text": [
            "0.010000000000000009\n"
          ]
        }
      ]
    },
    {
      "cell_type": "code",
      "source": [
        "# T-Distribution Table\n",
        "t_dist = 2.821"
      ],
      "metadata": {
        "id": "sWDih-RAUWx5"
      },
      "execution_count": 22,
      "outputs": []
    },
    {
      "cell_type": "code",
      "source": [
        "# menghitung nilai\n",
        "mix = std/math.sqrt(sample)\n",
        "hasil = t_dist * mix"
      ],
      "metadata": {
        "id": "a30JxgrkYARW"
      },
      "execution_count": 16,
      "outputs": []
    },
    {
      "cell_type": "code",
      "source": [
        "print('batas bawah:',rerata - hasil)\n",
        "print('batas atas:',rerata + hasil)"
      ],
      "metadata": {
        "colab": {
          "base_uri": "https://localhost:8080/"
        },
        "id": "z9VM_UhbYKwM",
        "outputId": "e63bc1eb-6462-4fc7-adfe-afd2b1d46bfa"
      },
      "execution_count": 19,
      "outputs": [
        {
          "output_type": "stream",
          "name": "stdout",
          "text": [
            "batas bawah: 54.78913332497132\n",
            "batas atas: 87.21086667502868\n"
          ]
        }
      ]
    },
    {
      "cell_type": "markdown",
      "source": [
        "###**menghitung menggunakan libarary scipy**"
      ],
      "metadata": {
        "id": "sH-TBqZ6YnpH"
      }
    },
    {
      "cell_type": "code",
      "source": [
        "import scipy.stats as st"
      ],
      "metadata": {
        "id": "nvyCH79DYmzt"
      },
      "execution_count": 20,
      "outputs": []
    },
    {
      "cell_type": "code",
      "source": [
        "st.t.interval(alpha=0.98, df=len(nilai)-1, loc=np.mean(nilai), scale=st.sem(nilai))"
      ],
      "metadata": {
        "colab": {
          "base_uri": "https://localhost:8080/"
        },
        "id": "rLkwyFBiYxeK",
        "outputId": "f5b5018a-bf93-4982-f98a-90492da9cc41"
      },
      "execution_count": 21,
      "outputs": [
        {
          "output_type": "execute_result",
          "data": {
            "text/plain": [
              "(54.78661680024991, 87.2133831997501)"
            ]
          },
          "metadata": {},
          "execution_count": 21
        }
      ]
    },
    {
      "cell_type": "markdown",
      "source": [
        "###**kesimpulan**\n",
        "\n",
        "jadi confidence interval adalah 54.789 sampai dengan 87.21"
      ],
      "metadata": {
        "id": "0Dkb6IuQYM2w"
      }
    }
  ]
}
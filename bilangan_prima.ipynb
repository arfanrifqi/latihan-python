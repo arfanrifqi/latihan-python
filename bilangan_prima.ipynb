{
  "nbformat": 4,
  "nbformat_minor": 0,
  "metadata": {
    "colab": {
      "name": "bilangan prima.ipynb",
      "provenance": [],
      "authorship_tag": "ABX9TyMVOwZo7jxTyxnr13K1OtFv",
      "include_colab_link": true
    },
    "kernelspec": {
      "name": "python3",
      "display_name": "Python 3"
    },
    "language_info": {
      "name": "python"
    }
  },
  "cells": [
    {
      "cell_type": "markdown",
      "metadata": {
        "id": "view-in-github",
        "colab_type": "text"
      },
      "source": [
        "<a href=\"https://colab.research.google.com/github/arfanrifqi/latihan-python/blob/main/bilangan_prima.ipynb\" target=\"_parent\"><img src=\"https://colab.research.google.com/assets/colab-badge.svg\" alt=\"Open In Colab\"/></a>"
      ]
    },
    {
      "cell_type": "markdown",
      "source": [
        "Buat program yang mencetak seluruh bilangan prima yang lebih kecil dari 100"
      ],
      "metadata": {
        "id": "OQz8P3hdVPu7"
      }
    },
    {
      "cell_type": "code",
      "source": [
        "def is_prima(x):\n",
        "\n",
        "  for i in range(2, x):\n",
        "\n",
        "    if x % i == 0:\n",
        "      return False\n",
        "\n",
        "    return True\n",
        "\n",
        "def cari_bilangan_prima(awal, akhir):\n",
        "\n",
        "  list_bilangan_prima = []\n",
        "\n",
        "  for x in range(awal, akhir+1):\n",
        "\n",
        "    if is_prima(x):\n",
        "      list_bilangan_prima.append(x)\n",
        "    \n",
        "  return list_bilangan_prima\n",
        "\n",
        "print(cari_bilangan_prima(1,100))\n"
      ],
      "metadata": {
        "colab": {
          "base_uri": "https://localhost:8080/"
        },
        "id": "5h53Hib9VW8o",
        "outputId": "08104e5a-6f6b-4dfa-f4dc-c51126021660"
      },
      "execution_count": 6,
      "outputs": [
        {
          "output_type": "stream",
          "name": "stdout",
          "text": [
            "[3, 5, 7, 9, 11, 13, 15, 17, 19, 21, 23, 25, 27, 29, 31, 33, 35, 37, 39, 41, 43, 45, 47, 49, 51, 53, 55, 57, 59, 61, 63, 65, 67, 69, 71, 73, 75, 77, 79, 81, 83, 85, 87, 89, 91, 93, 95, 97, 99]\n"
          ]
        }
      ]
    }
  ]
}